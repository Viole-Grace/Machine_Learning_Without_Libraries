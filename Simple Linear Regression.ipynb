{
 "cells": [
  {
   "cell_type": "code",
   "execution_count": 102,
   "metadata": {},
   "outputs": [],
   "source": [
    "import numpy as np \n",
    "import pandas as pd\n",
    "from sklearn.linear_model import LinearRegression\n",
    "import math\n",
    "import numba\n",
    "from numba import jit, njit\n",
    "import warnings\n",
    "warnings.simplefilter('ignore')"
   ]
  },
  {
   "cell_type": "code",
   "execution_count": 2,
   "metadata": {},
   "outputs": [],
   "source": [
    "df = pd.read_csv(\"dataset.csv\")"
   ]
  },
  {
   "cell_type": "code",
   "execution_count": 4,
   "metadata": {},
   "outputs": [],
   "source": [
    "x,y = list(df['Subject 1']), list(df['Subject 2'])"
   ]
  },
  {
   "cell_type": "code",
   "execution_count": 18,
   "metadata": {},
   "outputs": [],
   "source": [
    "@jit(parallel = True, fastmath=True)\n",
    "def mean(arr):\n",
    "    return sum(arr)/len(arr);"
   ]
  },
  {
   "cell_type": "code",
   "execution_count": 103,
   "metadata": {},
   "outputs": [],
   "source": [
    "mean_x, mean_y = mean(x), mean(y)"
   ]
  },
  {
   "cell_type": "code",
   "execution_count": 80,
   "metadata": {},
   "outputs": [],
   "source": [
    "@jit(parallel=True,fastmath=True)\n",
    "def get_bias_and_constant(arr, l, mean_x=mean_x, mean_y=mean_y):\n",
    "    sn, sd=0,0;\n",
    "    for i in range(len(arr)):\n",
    "        sn+=(arr[i]-mean_x)*(l[i]-mean_y)\n",
    "        sd+=(arr[i]-mean_x)**2\n",
    "    bias, constant = 0,0\n",
    "    bias = sn/sd\n",
    "    constant = mean_y - mean_x*bias\n",
    "    print(\"intercept : {}, m : {}\".format(constant, bias))\n",
    "    \n",
    "    return bias, constant"
   ]
  },
  {
   "cell_type": "code",
   "execution_count": 104,
   "metadata": {},
   "outputs": [
    {
     "name": "stdout",
     "output_type": "stream",
     "text": [
      "intercept : -1.6460674157303181, m : 1.0749063670411978\n"
     ]
    }
   ],
   "source": [
    "m,c = get_bias_and_constant(arr=x, l=y, mean_x=mean_x, mean_y=mean_y)"
   ]
  },
  {
   "cell_type": "code",
   "execution_count": 128,
   "metadata": {},
   "outputs": [],
   "source": [
    "@jit(parallel=True, fastmath=True)\n",
    "def metadata_stats(x=x,y=y,mean_x = mean_x, mean_y = mean_y,pred_y=pred_y,m=m,c=c):\n",
    "    res_sum_of_sq, tot_sum_of_sq, sq_err = 0,0,0\n",
    "    for i in range(len(x)):\n",
    "        res_sum_of_sq+=(y[i]-pred_y[i])**2\n",
    "        tot_sum_of_sq+=(y[i]-mean_y)**2\n",
    "    r_sq = math.sqrt(res_sum_of_sq/(len(x)-2))\n",
    "    sq_err = 1 - (res_sum_of_sq/tot_sum_of_sq)\n",
    "    print(\"Intercept : {}\\nBias : {}\".format(c,m))\n",
    "    print(\"Squared Error : {}\".format(sq_err[0]))"
   ]
  },
  {
   "cell_type": "code",
   "execution_count": 57,
   "metadata": {},
   "outputs": [],
   "source": [
    "df['Predicted'] = df['Subject 1'].apply(lambda x : (m*x +c))"
   ]
  },
  {
   "cell_type": "code",
   "execution_count": 61,
   "metadata": {},
   "outputs": [
    {
     "data": {
      "text/plain": [
       "LinearRegression(copy_X=True, fit_intercept=True, n_jobs=None, normalize=False)"
      ]
     },
     "execution_count": 61,
     "metadata": {},
     "output_type": "execute_result"
    }
   ],
   "source": [
    "lr = LinearRegression()\n",
    "lr.fit(np.array(x).reshape(-1,1),np.array(y).reshape(-1,1))"
   ]
  },
  {
   "cell_type": "code",
   "execution_count": 64,
   "metadata": {},
   "outputs": [],
   "source": [
    "pred_y = lr.predict(np.array(x).reshape(-1,1))"
   ]
  },
  {
   "cell_type": "code",
   "execution_count": 72,
   "metadata": {},
   "outputs": [],
   "source": [
    "pr_y = [pred_y[i][0] for i in range(len(pred_y))]"
   ]
  },
  {
   "cell_type": "code",
   "execution_count": 82,
   "metadata": {},
   "outputs": [],
   "source": [
    "df['Library Prediction']=pr_y"
   ]
  },
  {
   "cell_type": "code",
   "execution_count": 98,
   "metadata": {},
   "outputs": [],
   "source": [
    "@jit(fastmath=True)\n",
    "def calculate_error(col1, col2):\n",
    "    return col1-col2"
   ]
  },
  {
   "cell_type": "code",
   "execution_count": 99,
   "metadata": {},
   "outputs": [],
   "source": [
    "df['Absolute error']=df.apply(lambda x : calculate_error(x['Predicted'], x['Library Prediction']), axis=1)"
   ]
  },
  {
   "cell_type": "code",
   "execution_count": 100,
   "metadata": {},
   "outputs": [
    {
     "data": {
      "text/html": [
       "<div>\n",
       "<style scoped>\n",
       "    .dataframe tbody tr th:only-of-type {\n",
       "        vertical-align: middle;\n",
       "    }\n",
       "\n",
       "    .dataframe tbody tr th {\n",
       "        vertical-align: top;\n",
       "    }\n",
       "\n",
       "    .dataframe thead th {\n",
       "        text-align: right;\n",
       "    }\n",
       "</style>\n",
       "<table border=\"1\" class=\"dataframe\">\n",
       "  <thead>\n",
       "    <tr style=\"text-align: right;\">\n",
       "      <th></th>\n",
       "      <th>Unnamed: 0</th>\n",
       "      <th>Subject 1</th>\n",
       "      <th>Subject 2</th>\n",
       "      <th>Predicted</th>\n",
       "      <th>Library Prediction</th>\n",
       "      <th>Absolute error</th>\n",
       "    </tr>\n",
       "  </thead>\n",
       "  <tbody>\n",
       "    <tr>\n",
       "      <th>0</th>\n",
       "      <td>0</td>\n",
       "      <td>24</td>\n",
       "      <td>26</td>\n",
       "      <td>24.151685</td>\n",
       "      <td>24.151685</td>\n",
       "      <td>3.552714e-15</td>\n",
       "    </tr>\n",
       "    <tr>\n",
       "      <th>1</th>\n",
       "      <td>1</td>\n",
       "      <td>26</td>\n",
       "      <td>29</td>\n",
       "      <td>26.301498</td>\n",
       "      <td>26.301498</td>\n",
       "      <td>0.000000e+00</td>\n",
       "    </tr>\n",
       "    <tr>\n",
       "      <th>2</th>\n",
       "      <td>2</td>\n",
       "      <td>27</td>\n",
       "      <td>26</td>\n",
       "      <td>27.376404</td>\n",
       "      <td>27.376404</td>\n",
       "      <td>0.000000e+00</td>\n",
       "    </tr>\n",
       "    <tr>\n",
       "      <th>3</th>\n",
       "      <td>3</td>\n",
       "      <td>21</td>\n",
       "      <td>23</td>\n",
       "      <td>20.926966</td>\n",
       "      <td>20.926966</td>\n",
       "      <td>0.000000e+00</td>\n",
       "    </tr>\n",
       "    <tr>\n",
       "      <th>4</th>\n",
       "      <td>4</td>\n",
       "      <td>25</td>\n",
       "      <td>26</td>\n",
       "      <td>25.226592</td>\n",
       "      <td>25.226592</td>\n",
       "      <td>0.000000e+00</td>\n",
       "    </tr>\n",
       "  </tbody>\n",
       "</table>\n",
       "</div>"
      ],
      "text/plain": [
       "   Unnamed: 0  Subject 1  Subject 2  Predicted  Library Prediction  \\\n",
       "0           0         24         26  24.151685           24.151685   \n",
       "1           1         26         29  26.301498           26.301498   \n",
       "2           2         27         26  27.376404           27.376404   \n",
       "3           3         21         23  20.926966           20.926966   \n",
       "4           4         25         26  25.226592           25.226592   \n",
       "\n",
       "   Absolute error  \n",
       "0    3.552714e-15  \n",
       "1    0.000000e+00  \n",
       "2    0.000000e+00  \n",
       "3    0.000000e+00  \n",
       "4    0.000000e+00  "
      ]
     },
     "execution_count": 100,
     "metadata": {},
     "output_type": "execute_result"
    }
   ],
   "source": [
    "df.head(5)"
   ]
  },
  {
   "cell_type": "code",
   "execution_count": 130,
   "metadata": {},
   "outputs": [
    {
     "name": "stdout",
     "output_type": "stream",
     "text": [
      "Metadata Stats (Predicted):\n",
      "\n",
      "Intercept : -1.6460674157303181\n",
      "Bias : 1.0749063670411978\n",
      "Squared Error : 0.6140284505042108\n"
     ]
    }
   ],
   "source": [
    "print(\"Metadata Stats (Predicted):\\n\")\n",
    "metadata_stats()"
   ]
  },
  {
   "cell_type": "code",
   "execution_count": 132,
   "metadata": {},
   "outputs": [
    {
     "name": "stdout",
     "output_type": "stream",
     "text": [
      "Metadata Stats (Library) :\n",
      "\n",
      "Intercept  : -1.6460674157303359\n",
      "Bias : 1.0749063670411985\n",
      "Squared Error : 0.6140284505042108\n"
     ]
    }
   ],
   "source": [
    "print(\"Metadata Stats (Library) :\\n\")\n",
    "print(\"Intercept  : {}\\nBias : {}\\nSquared Error : {}\".format(lr.intercept_[0],lr.coef_[0][0],lr.score(np.array(x).reshape(-1,1),np.array(y).reshape(-1,1))))"
   ]
  },
  {
   "cell_type": "code",
   "execution_count": null,
   "metadata": {},
   "outputs": [],
   "source": []
  }
 ],
 "metadata": {
  "kernelspec": {
   "display_name": "Python 3",
   "language": "python",
   "name": "python3"
  },
  "language_info": {
   "codemirror_mode": {
    "name": "ipython",
    "version": 3
   },
   "file_extension": ".py",
   "mimetype": "text/x-python",
   "name": "python",
   "nbconvert_exporter": "python",
   "pygments_lexer": "ipython3",
   "version": "3.5.2"
  }
 },
 "nbformat": 4,
 "nbformat_minor": 2
}
